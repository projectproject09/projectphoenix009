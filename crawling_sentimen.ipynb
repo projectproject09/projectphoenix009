{
  "nbformat": 4,
  "nbformat_minor": 0,
  "metadata": {
    "colab": {
      "provenance": []
    },
    "kernelspec": {
      "name": "python3",
      "display_name": "Python 3"
    },
    "language_info": {
      "name": "python"
    }
  },
  "cells": [
    {
      "cell_type": "code",
      "execution_count": 1,
      "metadata": {
        "id": "gvWKCxUy_Lo5"
      },
      "outputs": [],
      "source": [
        "!pip install -qq google-play-scraper"
      ]
    },
    {
      "cell_type": "code",
      "source": [
        "import json\n",
        "import pandas as pd\n",
        "from tqdm import tqdm\n",
        "from google_play_scraper import Sort, reviews, app\n",
        "\n",
        "from pygments import highlight\n",
        "from pygments.lexers import JsonLexer\n",
        "from pygments.formatters import TerminalFormatter"
      ],
      "metadata": {
        "id": "r0FL9kwQ_67m"
      },
      "execution_count": 2,
      "outputs": []
    },
    {
      "cell_type": "code",
      "source": [
        "from google.colab import drive\n",
        "drive.mount('/content/gdrive', force_remount=True)\n",
        "path=\"gdrive/MyDrive/\""
      ],
      "metadata": {
        "colab": {
          "base_uri": "https://localhost:8080/"
        },
        "id": "bJcR5IHCAyEp",
        "outputId": "ba4f48cb-9c8f-4a7f-e7c3-513e1f1d03ec"
      },
      "execution_count": 3,
      "outputs": [
        {
          "output_type": "stream",
          "name": "stdout",
          "text": [
            "Mounted at /content/gdrive\n"
          ]
        }
      ]
    },
    {
      "cell_type": "code",
      "source": [
        "app_packages = [\n",
        "    'neowidgetsforkwgt.kustom.pack',\n",
        "    'com.oceanhouse_media.booklcjustamess_app',\n",
        "    'com.dcsufc',\n",
        "    'mwave.electronic_toolbox',\n",
        "    'com.kpixgames.PathPixLaugh',\n",
        "    'com.StoreUnlimit.ReaderPro'\n",
        "  ]"
      ],
      "metadata": {
        "id": "HZ48ysfIBjTQ"
      },
      "execution_count": 4,
      "outputs": []
    },
    {
      "cell_type": "code",
      "source": [
        "app_infos =[]\n",
        "\n",
        "for application in tqdm(app_packages):\n",
        "  info = app(application, lang='id', country='id')\n",
        "  del info['comments']\n",
        "  app_infos.append(info)"
      ],
      "metadata": {
        "colab": {
          "base_uri": "https://localhost:8080/"
        },
        "id": "REZvv1yiCgze",
        "outputId": "688dad04-0985-43f5-99df-012961422df7"
      },
      "execution_count": 5,
      "outputs": [
        {
          "output_type": "stream",
          "name": "stderr",
          "text": [
            "100%|██████████| 6/6 [00:01<00:00,  5.40it/s]\n"
          ]
        }
      ]
    },
    {
      "cell_type": "code",
      "source": [
        "app_reviews = []\n",
        "\n",
        "for ap in tqdm(app_packages):\n",
        "  for score in list(range(1,6)):\n",
        "    for sort_order in [Sort.MOST_RELEVANT, Sort.NEWEST]:\n",
        "      rvs, _ = reviews(\n",
        "          ap,\n",
        "          lang='id',\n",
        "          country='id',\n",
        "          sort=sort_order,\n",
        "          count=100 if score == 3 else 100,\n",
        "          filter_score_with = score\n",
        "      )\n",
        "      for r in rvs:\n",
        "        r['sortOrder'] = 'most_relevant' if sort_order == Sort.MOST_RELEVANT else 'newest'\n",
        "        r['appid'] = ap\n",
        "      app_reviews.extend(rvs)"
      ],
      "metadata": {
        "colab": {
          "base_uri": "https://localhost:8080/"
        },
        "id": "aKn8oKyQDDc7",
        "outputId": "64a1e9ae-e161-44bb-96e8-5512bf88c279"
      },
      "execution_count": 6,
      "outputs": [
        {
          "output_type": "stream",
          "name": "stderr",
          "text": [
            "100%|██████████| 6/6 [00:06<00:00,  1.08s/it]\n"
          ]
        }
      ]
    },
    {
      "cell_type": "code",
      "source": [
        "app_reviews_df = pd.DataFrame(app_reviews)"
      ],
      "metadata": {
        "id": "W79jOQdvGrpN"
      },
      "execution_count": 7,
      "outputs": []
    },
    {
      "cell_type": "code",
      "source": [
        "app_reviews_df = app_reviews_df.sort_values([\"appid\",\"at\"])"
      ],
      "metadata": {
        "id": "wG21uai9G7GX"
      },
      "execution_count": 8,
      "outputs": []
    },
    {
      "cell_type": "code",
      "source": [
        "app_reviews_df.to_csv(path+'hasilreview.csv', index=None, header=True)"
      ],
      "metadata": {
        "id": "QLJh5ISjHOd6"
      },
      "execution_count": 9,
      "outputs": []
    }
  ]
}